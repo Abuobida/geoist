{
 "cells": [
  {
   "cell_type": "code",
   "execution_count": 1,
   "metadata": {},
   "outputs": [],
   "source": [
    "\"\"\"\n",
    "基于滑动窗口的欧拉反卷积算法\n",
    "\n",
    "通过基于滑动窗的欧拉反卷积方法估计简单异常模型的坐标。\n",
    "该方法的使用条件是源要具有简单的几何形状，如球体, 垂直柱体,垂直板状体等。当异常源很复杂的时候，该方法效果不是很理想。\n",
    "该程序通过常见的滑动窗口方案来测试欧拉反卷积\n",
    "\n",
    "方案实现于：geoist.euler_moving_window.ipynb。\n",
    "\"\"\"\n",
    "from geoist.pfm import sphere, pftrans, euler, giutils\n",
    "from geoist import gridder\n",
    "from geoist.inversion import geometry\n",
    "from geoist.vis import giplt\n",
    "import matplotlib.pyplot as plt"
   ]
  },
  {
   "cell_type": "code",
   "execution_count": 2,
   "metadata": {},
   "outputs": [
    {
     "name": "stdout",
     "output_type": "stream",
     "text": [
      "Centers of the model spheres:\n",
      "[-1000 -1000  1500]\n",
      "[1000 1500 1000]\n",
      "Kept Euler solutions after the moving window scheme:\n",
      "[[ 1005.02117863  1555.11042642   998.68593456]\n",
      " [ 1042.92870628  1479.25104857   982.8034785 ]\n",
      " [ -903.03736426  -826.2551998   1580.03357152]\n",
      " [ -996.30379977  -940.33986512  1459.01039032]\n",
      " [ 1159.1957134   1006.77185575  1199.42292819]\n",
      " [ 1465.17965473   408.39773001  1920.31472105]\n",
      " [  991.40325194  1468.18742261  1020.67590594]\n",
      " [ -966.01139554  -775.38064946  1465.22351287]\n",
      " [-1041.3450269   -971.09938734  1500.22185195]\n",
      " [ -284.04967711  -382.06786678  2243.58685856]\n",
      " [  -35.58602726  -108.90046998  1540.68712849]\n",
      " [ 1058.8441761   1516.37801553   994.86866767]\n",
      " [  999.08320679  1580.06304764  1051.97367365]\n",
      " [ -933.90137199  -995.14775353  1406.97615438]\n",
      " [  381.76290333  1131.68128707   992.51158521]\n",
      " [  914.43334205  1475.15646829   978.0510579 ]\n",
      " [ 1277.82392557  1876.41150747   931.05131937]\n",
      " [-1017.82794862 -1140.04437429  1560.46288409]\n",
      " [ -991.58404782 -1012.73293178  1556.74635058]\n",
      " [ -349.91796733   355.56106336  1792.13495774]]\n"
     ]
    },
    {
     "data": {
      "image/png": "[encoded data removed]",
      "text/plain": [
       "<Figure size 432x360 with 2 Axes>"
      ]
     },
     "metadata": {
      "needs_background": "light"
     },
     "output_type": "display_data"
    }
   ],
   "source": [
    "##合成磁数据测试欧拉反卷积\n",
    "# 磁倾角，磁偏角\n",
    "inc, dec = -45, 0\n",
    "# 制作仅包含感应磁化的两个球体模型\n",
    "model = [\n",
    "    geometry.Sphere(x=-1000, y=-1000, z=1500, radius=1000,\n",
    "                  props={'magnetization': giutils.ang2vec(2, inc, dec)}),\n",
    "    geometry.Sphere(x=1000, y=1500, z=1000, radius=1000,\n",
    "                  props={'magnetization': giutils.ang2vec(1, inc, dec)})]\n",
    "\n",
    "print(\"Centers of the model spheres:\")\n",
    "print(model[0].center)\n",
    "print(model[1].center)\n",
    "\n",
    "# 从模型中生成磁数据\n",
    "shape = (100, 100)\n",
    "area = [-5000, 5000, -5000, 5000]\n",
    "x, y, z = gridder.regular(area, shape, z=-150)\n",
    "data = sphere.tf(x, y, z, model, inc, dec)\n",
    "\n",
    "# 一阶导数\n",
    "xderiv = pftrans.derivx(x, y, data, shape)\n",
    "yderiv = pftrans.derivy(x, y, data, shape)\n",
    "zderiv = pftrans.derivz(x, y, data, shape)\n",
    "\n",
    "#通过扩展窗方法实现欧拉反卷积 \n",
    "#给出2个解决方案，每一个扩展窗都靠近异常\n",
    "#stutural_index=3表明异常源为球体\n",
    "'''\n",
    "    ===================================== ======== =========\n",
    "    源类型                                 SI (磁) SI (重力)\n",
    "    ===================================== ======== =========\n",
    "    Point, sphere                            3         2\n",
    "    Line, cylinder, thin bed fault           2         1\n",
    "    Thin sheet edge, thin sill, thin dyke    1         0\n",
    "    ===================================== ======== =========\n",
    "'''\n",
    "\n",
    "#选择10 x 10个大小为1000 x 1000 m的窗口\n",
    "solver = euler.EulerDeconvMW(x, y, z, data, xderiv, yderiv, zderiv,\n",
    "                             structural_index=3, windows=(10, 10),\n",
    "                             size=(1000, 1000))\n",
    "#使用fit()函数来获取右下角异常的估计值\n",
    "solver.fit()\n",
    "\n",
    "#估计位置存储格式为一列[x, y, z] 坐标\n",
    "print('Kept Euler solutions after the moving window scheme:')\n",
    "print(solver.estimate_)\n",
    "\n",
    "# 在磁数据上绘制异常估计值结果\n",
    "# 异常源的中心的真正深度为1500 m 和1000 m。\n",
    "\n",
    "plt.figure(figsize=(6, 5))\n",
    "plt.title('Euler deconvolution with a moving window')\n",
    "plt.contourf(y.reshape(shape), x.reshape(shape), data.reshape(shape), 30,\n",
    "             cmap=\"RdBu_r\")\n",
    "plt.scatter(solver.estimate_[:, 1], solver.estimate_[:, 0],\n",
    "            s=50, c=solver.estimate_[:, 2], cmap='cubehelix')\n",
    "plt.colorbar(pad=0).set_label('Depth (m)')\n",
    "plt.xlim(area[2:])\n",
    "plt.ylim(area[:2])\n",
    "plt.tight_layout()\n",
    "plt.show()"
   ]
  }
 ],
 "metadata": {
  "kernelspec": {
   "display_name": "Python 3",
   "language": "python",
   "name": "python3"
  },
  "language_info": {
   "codemirror_mode": {
    "name": "ipython",
    "version": 3
   },
   "file_extension": ".py",
   "mimetype": "text/x-python",
   "name": "python",
   "nbconvert_exporter": "python",
   "pygments_lexer": "ipython3",
   "version": "3.6.6"
  }
 },
 "nbformat": 4,
 "nbformat_minor": 2
}
