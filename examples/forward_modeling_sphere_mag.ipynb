{
 "cells": [
  {
   "cell_type": "code",
   "execution_count": 2,
   "metadata": {},
   "outputs": [],
   "source": [
    "\"\"\"\n",
    "笛卡尔坐标下球体磁力正演\n",
    "--------------------------------------------------------------------\n",
    "\n",
    "`geoist.gravity`模块有许多重磁力正演程序有\n",
    "展示如何基于笛卡尔坐标系建立球体并获得球体引起的磁异常及3分量\n",
    "\n",
    "\"\"\"\n",
    "import matplotlib.pyplot as plt\n",
    "import numpy as np\n",
    "\n",
    "from geoist.pfm import sphere, giutils\n",
    "from geoist import gridder\n",
    "from geoist.inversion import geometry\n",
    "from geoist.vis import giplt"
   ]
  },
  {
   "cell_type": "code",
   "execution_count": null,
   "metadata": {},
   "outputs": [],
   "source": [
    "# 通过geoist.gridder创建几何对象\n",
    "# 每个模型元素都有一个属性字典\n",
    "# 模型数据：创建两个具有不同磁化矢量的球体\n",
    "# giutils.ang2vec转化磁化强度、磁倾角、磁偏角为3分量向量\n",
    "model = [\n",
    "    geometry.Sphere(x=10e3, y=10e3, z=2e3, radius=1.5e3,\n",
    "                  props={'magnetization': giutils.ang2vec(1, inc=50, dec=-30)}),\n",
    "    geometry.Sphere(x=20e3, y=20e3, z=2e3, radius=1.5e3,\n",
    "                  props={'magnetization': giutils.ang2vec(1, inc=-70, dec=30)})]\n",
    "\n",
    "# 设置磁倾角、磁偏角\n",
    "inc, dec = -10, 13\n",
    "# 观测数据：恒定高度，规则网格\n",
    "shape = (300, 300)\n",
    "area = [0, 30e3, 0, 30e3]\n",
    "x, y, z = gridder.regular(area, shape, z=-10)"
   ]
  },
  {
   "cell_type": "code",
   "execution_count": null,
   "metadata": {},
   "outputs": [],
   "source": [
    "#计算磁力及3分量\n",
    "fields = [\n",
    "    ['Total field Anomaly (nt)', sphere.tf(x, y, z, model, inc, dec)],\n",
    "    ['Bx (nT)', sphere.bx(x, y, z, model)],\n",
    "    ['By (nT)', sphere.by(x, y, z, model)],\n",
    "    ['Bz (nT)', sphere.bz(x, y, z, model)],\n",
    "]"
   ]
  },
  {
   "cell_type": "code",
   "execution_count": null,
   "metadata": {},
   "outputs": [],
   "source": [
    "# 画图\n",
    "fig = plt.figure(figsize=(7, 6))\n",
    "plt.rcParams['font.size'] = 10\n",
    "X, Y = x.reshape(shape)/1000, y.reshape(shape)/1000\n",
    "for i, tmp in enumerate(fields):\n",
    "    ax = plt.subplot(2, 2, i + 1)\n",
    "    field, data = tmp\n",
    "    scale = np.abs([data.min(), data.max()]).max()\n",
    "    ax.set_title(field)\n",
    "    plot = ax.pcolormesh(Y, X, data.reshape(shape), cmap='RdBu_r',\n",
    "                         vmin=-scale, vmax=scale)\n",
    "    plt.colorbar(plot, ax=ax, aspect=30, pad=0)\n",
    "    ax.set_xlabel('y (km)')\n",
    "    ax.set_ylabel('x (km)')\n",
    "plt.tight_layout(pad=0.5)\n",
    "plt.show()"
   ]
  }
 ],
 "metadata": {
  "kernelspec": {
   "display_name": "Python 3",
   "language": "python",
   "name": "python3"
  },
  "language_info": {
   "codemirror_mode": {
    "name": "ipython",
    "version": 3
   },
   "file_extension": ".py",
   "mimetype": "text/x-python",
   "name": "python",
   "nbconvert_exporter": "python",
   "pygments_lexer": "ipython3",
   "version": "3.6.6"
  }
 },
 "nbformat": 4,
 "nbformat_minor": 2
}
