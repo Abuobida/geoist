{
 "cells": [
  {
   "cell_type": "code",
   "execution_count": 1,
   "metadata": {},
   "outputs": [],
   "source": [
    "\"\"\"\n",
    "测试igrf和tide的调用\n",
    "\"\"\"\n",
    "\n",
    "#third party imports\n",
    "# local imports\n",
    "import datetime\n",
    "import geoist.pfm as gip\n"
   ]
  },
  {
   "cell_type": "code",
   "execution_count": 2,
   "metadata": {},
   "outputs": [
    {
     "name": "stdout",
     "output_type": "stream",
     "text": [
      "{'Int': '55082.38487547502', 'Inc': '65.43045258692702', 'Dec': '-3.431811094137056'}\n",
      "Earthtide value in this time is: -0.037210574767177824\n"
     ]
    }
   ],
   "source": [
    "m1=gip.IGRF()\n",
    "m1.pnt(45,105,100)\n",
    "#计算日潮、月潮、引力潮\n",
    "g1=gip.TideModel()\n",
    "gdate = datetime.datetime(2018, 11, 1, 12, 00, 00)    \n",
    "gm, gs, g =g1.solve_longman(45,105,100,gdate)\n",
    "print(\"Earthtide value in this time is:\",g)"
   ]
  },
  {
   "cell_type": "code",
   "execution_count": null,
   "metadata": {},
   "outputs": [],
   "source": []
  }
 ],
 "metadata": {
  "kernelspec": {
   "display_name": "Python 3",
   "language": "python",
   "name": "python3"
  },
  "language_info": {
   "codemirror_mode": {
    "name": "ipython",
    "version": 3
   },
   "file_extension": ".py",
   "mimetype": "text/x-python",
   "name": "python",
   "nbconvert_exporter": "python",
   "pygments_lexer": "ipython3",
   "version": "3.7.0"
  }
 },
 "nbformat": 4,
 "nbformat_minor": 2
}
