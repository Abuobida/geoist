{
 "cells": [
  {
   "cell_type": "code",
   "execution_count": null,
   "metadata": {},
   "outputs": [],
   "source": [
    "\"\"\"\n",
    "重力改正 (正常重力和布格重力)\n",
    "------------------------------------------------------\n",
    "\n",
    "可实现的功能为获取重力异常和自由空气异常\n",
    "通过夏威夷的原始重力数据示例\n",
    "\"\"\"\n",
    "import matplotlib.pyplot as plt\n",
    "import numpy as np\n",
    "from geoist.pfm.hawaii_gravity import fetch_hawaii_gravity\n",
    "from geoist.pfm import normgra"
   ]
  },
  {
   "cell_type": "code",
   "execution_count": null,
   "metadata": {},
   "outputs": [],
   "source": [
    "# 加载数据\n",
    "data = fetch_hawaii_gravity()\n",
    "# 利用解析公式计算正常重力\n",
    "gamma = normgra.gamma_closed_form(data['lat'], data['height'])\n",
    "disturbance = data['gravity'] - gamma\n",
    "# 利用布格板去除地形效应\n",
    "bouguer = disturbance - normgra.bouguer_plate(data['topography'])"
   ]
  },
  {
   "cell_type": "code",
   "execution_count": null,
   "metadata": {},
   "outputs": [],
   "source": [
    "# 画图 UTM 坐标 (x is North and y is East)\n",
    "shape = data['shape']\n",
    "x, y = data['x'].reshape(shape), data['y'].reshape(shape)\n",
    "\n",
    "fig, axes = plt.subplots(2, 2, figsize=(10, 9))\n",
    "plt.rcParams['font.size'] = 10\n",
    "#原始重力\n",
    "ax = axes[0, 0]\n",
    "ax.set_title('Raw gravity of Hawaii')\n",
    "tmp = ax.contourf(y/1000, x/1000, data['gravity'].reshape(shape), 60,\n",
    "                  cmap='Reds')\n",
    "fig.colorbar(tmp, ax=ax, pad=0, aspect=30).set_label('mGal')\n",
    "#地形\n",
    "ax = axes[0, 1]\n",
    "ax.set_title('Topography')\n",
    "scale = np.abs([data['topography'].min(), data['topography'].max()]).max()\n",
    "tmp = ax.contourf(y/1000, x/1000, data['topography'].reshape(shape), 60,\n",
    "                  cmap='terrain', vmin=-scale, vmax=scale)\n",
    "fig.colorbar(tmp, ax=ax, pad=0, aspect=30).set_label('m')\n",
    "\n",
    "#重力异常\n",
    "ax = axes[1, 0]\n",
    "ax.set_title('Gravity disturbance')\n",
    "scale = np.abs([disturbance.min(), disturbance.max()]).max()\n",
    "tmp = ax.contourf(y/1000, x/1000, disturbance.reshape(shape), 60,\n",
    "                  cmap='RdBu_r', vmin=-scale, vmax=scale)\n",
    "fig.colorbar(tmp, ax=ax, pad=0, aspect=30).set_label('mGal')\n",
    "#布格异常\n",
    "ax = axes[1, 1]\n",
    "ax.set_title('Topography-free disturbance')\n",
    "tmp = ax.contourf(y/1000, x/1000, bouguer.reshape(shape), 60, cmap='viridis')\n",
    "fig.colorbar(tmp, ax=ax, pad=0, aspect=30).set_label('mGal')\n",
    "\n",
    "plt.tight_layout()\n",
    "plt.show()\n",
    "\n"
   ]
  },
  {
   "cell_type": "code",
   "execution_count": null,
   "metadata": {},
   "outputs": [],
   "source": []
  }
 ],
 "metadata": {
  "kernelspec": {
   "display_name": "Python 3",
   "language": "python",
   "name": "python3"
  },
  "language_info": {
   "codemirror_mode": {
    "name": "ipython",
    "version": 3
   },
   "file_extension": ".py",
   "mimetype": "text/x-python",
   "name": "python",
   "nbconvert_exporter": "python",
   "pygments_lexer": "ipython3",
   "version": "3.6.6"
  }
 },
 "nbformat": 4,
 "nbformat_minor": 2
}
